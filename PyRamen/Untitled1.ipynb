{
 "cells": [
  {
   "cell_type": "code",
   "execution_count": 1,
   "metadata": {},
   "outputs": [
    {
     "name": "stdout",
     "output_type": "stream",
     "text": [
      "Total lines of menu: 32!\n",
      "Total times of sales: 74124!\n",
      "Total length of report: 11!\n"
     ]
    }
   ],
   "source": [
    "# Import the pathlib and csv library\n",
    "from pathlib import Path\n",
    "#from pandas import pd\n",
    "import csv\n",
    "\n",
    "row_count = 0\n",
    "\n",
    "menu = []\n",
    "csvpath = Path('./menu_data.csv')\n",
    "with open(csvpath, 'r') as csvfile:\n",
    "\n",
    "    csvreader = csv.reader(csvfile, delimiter=',')\n",
    "   \n",
    "    header = next(csvreader)\n",
    "\n",
    "    for item in csvreader:\n",
    "        menu.append(item)\n",
    "        \n",
    "row_count = len(menu)\n",
    "print(f\"Total lines of menu: {row_count}!\")\n",
    "       \n",
    "sales = []\n",
    "csvpath = Path('./sales_data.csv')\n",
    "with open(csvpath, 'r') as csvfile:\n",
    "\n",
    "    csvreader = csv.reader(csvfile, delimiter=',')\n",
    "   \n",
    "    header = next(csvreader)\n",
    "\n",
    "    for item in csvreader: \n",
    "        sales.append(item)\n",
    "        \n",
    "row_count = len(sales)\n",
    "print(f\"Total times of sales: {row_count}!\")\n",
    "\n",
    "sales_quantity = 0  \n",
    "sales_item_name = \"\"\n",
    "report = {}\n",
    "\n",
    "for sales_item in sales:\n",
    "    \n",
    "    sales_quantity = sales_item[3]\n",
    "    sales_item_name = sales_item[4]\n",
    "    \n",
    "    if report.get(sales_item_name) == None:\n",
    "        report[sales_item_name] = {'01-count': 0,\n",
    "                                 '02-revenue': 0.0,\n",
    "                                 '03-cogs': 0.0,\n",
    "                                 '04-profit': 0.0}\n",
    "\n",
    "row_count = len(report)\n",
    "print(f\"Total length of report: {row_count}!\")\n"
   ]
  },
  {
   "cell_type": "code",
   "execution_count": 2,
   "metadata": {},
   "outputs": [
    {
     "data": {
      "text/plain": [
       "{'spicy miso ramen': {'01-count': 0,\n",
       "  '02-revenue': 0.0,\n",
       "  '03-cogs': 0.0,\n",
       "  '04-profit': 0.0},\n",
       " 'tori paitan ramen': {'01-count': 0,\n",
       "  '02-revenue': 0.0,\n",
       "  '03-cogs': 0.0,\n",
       "  '04-profit': 0.0},\n",
       " 'truffle butter ramen': {'01-count': 0,\n",
       "  '02-revenue': 0.0,\n",
       "  '03-cogs': 0.0,\n",
       "  '04-profit': 0.0},\n",
       " 'tonkotsu ramen': {'01-count': 0,\n",
       "  '02-revenue': 0.0,\n",
       "  '03-cogs': 0.0,\n",
       "  '04-profit': 0.0},\n",
       " 'vegetarian spicy miso': {'01-count': 0,\n",
       "  '02-revenue': 0.0,\n",
       "  '03-cogs': 0.0,\n",
       "  '04-profit': 0.0},\n",
       " 'shio ramen': {'01-count': 0,\n",
       "  '02-revenue': 0.0,\n",
       "  '03-cogs': 0.0,\n",
       "  '04-profit': 0.0},\n",
       " 'miso crab ramen': {'01-count': 0,\n",
       "  '02-revenue': 0.0,\n",
       "  '03-cogs': 0.0,\n",
       "  '04-profit': 0.0},\n",
       " 'nagomi shoyu': {'01-count': 0,\n",
       "  '02-revenue': 0.0,\n",
       "  '03-cogs': 0.0,\n",
       "  '04-profit': 0.0},\n",
       " 'soft-shell miso crab ramen': {'01-count': 0,\n",
       "  '02-revenue': 0.0,\n",
       "  '03-cogs': 0.0,\n",
       "  '04-profit': 0.0},\n",
       " 'burnt garlic tonkotsu ramen': {'01-count': 0,\n",
       "  '02-revenue': 0.0,\n",
       "  '03-cogs': 0.0,\n",
       "  '04-profit': 0.0},\n",
       " 'vegetarian curry + king trumpet mushroom ramen': {'01-count': 0,\n",
       "  '02-revenue': 0.0,\n",
       "  '03-cogs': 0.0,\n",
       "  '04-profit': 0.0}}"
      ]
     },
     "execution_count": 2,
     "metadata": {},
     "output_type": "execute_result"
    }
   ],
   "source": [
    "report"
   ]
  },
  {
   "cell_type": "code",
   "execution_count": 9,
   "metadata": {},
   "outputs": [],
   "source": [
    "\n",
    "        \n",
    "menu_price = 0.0\n",
    "menu_cost= 0.0\n",
    "menu_profit= 0.0\n",
    "\n",
    "found = 0\n",
    "\n",
    "for sales_item in sales:\n",
    "    \n",
    "    found = 0\n",
    "    \n",
    "    row_count += 1\n",
    "    \n",
    "    sales_quantity = sales_item[3]\n",
    "    sales_item_name = sales_item[4]\n",
    "    \n",
    "    for menu_item in menu: \n",
    "        \n",
    "        if sales_item_name == menu_item[0]: \n",
    "            \n",
    "            found = 1  \n",
    "            menu_price = int(menu_item[3])\n",
    "            menu_cost= int(menu_item[4])\n",
    "            menu_profit = menu_price - menu_cost\n",
    "            \n",
    "            print\n",
    "    \n",
    "            break\n",
    "        \n",
    "    if found == 1:\n",
    "        \n",
    "        report[sales_item_name][\"01-count\"] += int(sales_quantity)\n",
    "        report[sales_item_name][\"02-revenue\"] += menu_price * int(sales_quantity)\n",
    "        report[sales_item_name][\"03-cogs\"] += menu_cost * int(sales_quantity)\n",
    "        report[sales_item_name][\"04-profit\"] += menu_profit * int(sales_quantity)\n",
    "        \n",
    "    else:\n",
    "        \n",
    "        print(f\"{sales_item_name} : {sales_quantity} does not equal any menu item! NO MATCH!\")\n",
    "        "
   ]
  },
  {
   "cell_type": "code",
   "execution_count": 10,
   "metadata": {},
   "outputs": [
    {
     "data": {
      "text/plain": [
       "{'spicy miso ramen': {'01-count': 9238,\n",
       "  '02-revenue': 110856.0,\n",
       "  '03-cogs': 46190.0,\n",
       "  '04-profit': 64666.0},\n",
       " 'tori paitan ramen': {'01-count': 9156,\n",
       "  '02-revenue': 119028.0,\n",
       "  '03-cogs': 54936.0,\n",
       "  '04-profit': 64092.0},\n",
       " 'truffle butter ramen': {'01-count': 8982,\n",
       "  '02-revenue': 125748.0,\n",
       "  '03-cogs': 62874.0,\n",
       "  '04-profit': 62874.0},\n",
       " 'tonkotsu ramen': {'01-count': 9288,\n",
       "  '02-revenue': 120744.0,\n",
       "  '03-cogs': 55728.0,\n",
       "  '04-profit': 65016.0},\n",
       " 'vegetarian spicy miso': {'01-count': 9216,\n",
       "  '02-revenue': 110592.0,\n",
       "  '03-cogs': 46080.0,\n",
       "  '04-profit': 64512.0},\n",
       " 'shio ramen': {'01-count': 9180,\n",
       "  '02-revenue': 100980.0,\n",
       "  '03-cogs': 45900.0,\n",
       "  '04-profit': 55080.0},\n",
       " 'miso crab ramen': {'01-count': 8890,\n",
       "  '02-revenue': 106680.0,\n",
       "  '03-cogs': 53340.0,\n",
       "  '04-profit': 53340.0},\n",
       " 'nagomi shoyu': {'01-count': 9132,\n",
       "  '02-revenue': 100452.0,\n",
       "  '03-cogs': 45660.0,\n",
       "  '04-profit': 54792.0},\n",
       " 'soft-shell miso crab ramen': {'01-count': 9130,\n",
       "  '02-revenue': 127820.0,\n",
       "  '03-cogs': 63910.0,\n",
       "  '04-profit': 63910.0},\n",
       " 'burnt garlic tonkotsu ramen': {'01-count': 9070,\n",
       "  '02-revenue': 126980.0,\n",
       "  '03-cogs': 54420.0,\n",
       "  '04-profit': 72560.0},\n",
       " 'vegetarian curry + king trumpet mushroom ramen': {'01-count': 8824,\n",
       "  '02-revenue': 114712.0,\n",
       "  '03-cogs': 61768.0,\n",
       "  '04-profit': 52944.0}}"
      ]
     },
     "execution_count": 10,
     "metadata": {},
     "output_type": "execute_result"
    }
   ],
   "source": [
    "report"
   ]
  },
  {
   "cell_type": "code",
   "execution_count": 11,
   "metadata": {},
   "outputs": [
    {
     "name": "stdout",
     "output_type": "stream",
     "text": [
      "spicy miso ramen {'01-count': 9238, '02-revenue': 110856.0, '03-cogs': 46190.0, '04-profit': 64666.0}\n",
      "tori paitan ramen {'01-count': 9156, '02-revenue': 119028.0, '03-cogs': 54936.0, '04-profit': 64092.0}\n",
      "truffle butter ramen {'01-count': 8982, '02-revenue': 125748.0, '03-cogs': 62874.0, '04-profit': 62874.0}\n",
      "tonkotsu ramen {'01-count': 9288, '02-revenue': 120744.0, '03-cogs': 55728.0, '04-profit': 65016.0}\n",
      "vegetarian spicy miso {'01-count': 9216, '02-revenue': 110592.0, '03-cogs': 46080.0, '04-profit': 64512.0}\n",
      "shio ramen {'01-count': 9180, '02-revenue': 100980.0, '03-cogs': 45900.0, '04-profit': 55080.0}\n",
      "miso crab ramen {'01-count': 8890, '02-revenue': 106680.0, '03-cogs': 53340.0, '04-profit': 53340.0}\n",
      "nagomi shoyu {'01-count': 9132, '02-revenue': 100452.0, '03-cogs': 45660.0, '04-profit': 54792.0}\n",
      "soft-shell miso crab ramen {'01-count': 9130, '02-revenue': 127820.0, '03-cogs': 63910.0, '04-profit': 63910.0}\n",
      "burnt garlic tonkotsu ramen {'01-count': 9070, '02-revenue': 126980.0, '03-cogs': 54420.0, '04-profit': 72560.0}\n",
      "vegetarian curry + king trumpet mushroom ramen {'01-count': 8824, '02-revenue': 114712.0, '03-cogs': 61768.0, '04-profit': 52944.0}\n"
     ]
    }
   ],
   "source": [
    "output_path = Path('./output.csv')\n",
    "with open(output_path, 'w') as outfile:\n",
    "    \n",
    "    for item_name, item_value in report.items(): \n",
    "        print(f\"{item_name} {item_value}\")\n",
    "        outfile.write(f\"{item_name} {item_value}\\n\")\n",
    "    "
   ]
  },
  {
   "cell_type": "code",
   "execution_count": null,
   "metadata": {},
   "outputs": [],
   "source": []
  }
 ],
 "metadata": {
  "kernelspec": {
   "display_name": "Python 3",
   "language": "python",
   "name": "python3"
  },
  "language_info": {
   "codemirror_mode": {
    "name": "ipython",
    "version": 3
   },
   "file_extension": ".py",
   "mimetype": "text/x-python",
   "name": "python",
   "nbconvert_exporter": "python",
   "pygments_lexer": "ipython3",
   "version": "3.8.3"
  }
 },
 "nbformat": 4,
 "nbformat_minor": 4
}
